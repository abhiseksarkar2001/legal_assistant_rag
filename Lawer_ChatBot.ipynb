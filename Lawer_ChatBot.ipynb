{
 "cells": [
  {
   "cell_type": "markdown",
   "id": "25ad046a",
   "metadata": {},
   "source": [
    "# Lawer ChatBot for Legal Help\n",
    "## by Abhisek Sarkar"
   ]
  },
  {
   "cell_type": "code",
   "execution_count": 25,
   "id": "82989fb2",
   "metadata": {},
   "outputs": [],
   "source": [
    "# Importing necessery packages\n",
    "import os\n",
    "import faiss\n",
    "import pickle\n",
    "import numpy as np\n",
    "from sentence_transformers import SentenceTransformer\n",
    "from groq import Groq"
   ]
  },
  {
   "cell_type": "code",
   "execution_count": 26,
   "id": "60aae0d3",
   "metadata": {},
   "outputs": [],
   "source": [
    "# === Configurations ===\n",
    "EMBEDDING_MODEL_NAME = \"all-MiniLM-L6-v2\"\n",
    "FAISS_INDEX_PATH = '/home/abhisek/Project/AI_Lawer_ChatBot/JSONS_embedding/faiss_index'\n",
    "FAISS_META_PATH = '/home/abhisek/Project/AI_Lawer_ChatBot/JSONS_embedding/faiss_index_meta.pkl'\n",
    "GROQ_API_KEY = \"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\""
   ]
  },
  {
   "cell_type": "code",
   "execution_count": 27,
   "id": "dcc543dd",
   "metadata": {},
   "outputs": [],
   "source": [
    "# === Groq Client ===\n",
    "client = Groq(api_key=GROQ_API_KEY)"
   ]
  },
  {
   "cell_type": "code",
   "execution_count": 28,
   "id": "ebb90701",
   "metadata": {},
   "outputs": [],
   "source": [
    "# === Load embedding model ===\n",
    "embedding_model = SentenceTransformer(EMBEDDING_MODEL_NAME)"
   ]
  },
  {
   "cell_type": "code",
   "execution_count": 29,
   "id": "d9557458",
   "metadata": {},
   "outputs": [],
   "source": [
    "# === Load FAISS index and metadata ===\n",
    "def load_faiss_index():\n",
    "    index = faiss.read_index(FAISS_INDEX_PATH)\n",
    "    with open(FAISS_META_PATH, 'rb') as f:\n",
    "        metadata = pickle.load(f)\n",
    "    return index, metadata\n"
   ]
  },
  {
   "cell_type": "code",
   "execution_count": 30,
   "id": "959a568d",
   "metadata": {},
   "outputs": [],
   "source": [
    "index, metadata_list = load_faiss_index()"
   ]
  },
  {
   "cell_type": "code",
   "execution_count": 31,
   "id": "ff97475f",
   "metadata": {},
   "outputs": [],
   "source": [
    "# === Embedding function ===\n",
    "def embed_text(text):\n",
    "    return embedding_model.encode([text], normalize_embeddings=True)"
   ]
  },
  {
   "cell_type": "code",
   "execution_count": 32,
   "id": "00cc9154",
   "metadata": {},
   "outputs": [],
   "source": [
    "# === Search function ===\n",
    "def search_faiss(query, top_k=5):\n",
    "    query_embedding = embed_text(query)\n",
    "    distances, indices = index.search(query_embedding, top_k)\n",
    "    return [metadata_list[i] for i in indices[0] if i < len(metadata_list)]"
   ]
  },
  {
   "cell_type": "code",
   "execution_count": 33,
   "id": "41027117",
   "metadata": {},
   "outputs": [],
   "source": [
    "# === Prompt construction ===\n",
    "def build_prompt(contexts, user_query):\n",
    "    context_text = \"\\n\\n\".join(\n",
    "        f\"Section {ctx.get('section', 'N/A')}: {ctx.get('title', '')}\\n{ctx.get('description', '')}\"\n",
    "        for ctx in contexts\n",
    "    )\n",
    "    \n",
    "    return f\"\"\"You are a legal expert AI specialized in Indian Law. Using *only* the legal sections retrieved below, answer the user's question in a clear, authoritative, and concise manner.\n",
    "\n",
    "Rules:\n",
    "- Cite the relevant law sections exactly.\n",
    "- Do NOT add imagined legal advice.\n",
    "- Be to-the-point, like a real Indian legal expert.\n",
    "- If no law section applies, say: \"No relevant legal section found for your query.\"\n",
    "\n",
    "Retrieved Law Sections:\n",
    "{context_text}\n",
    "\n",
    "User Query:\n",
    "{user_query}\n",
    "\n",
    "Now answer the query based strictly on the law sections above.\n",
    "\"\"\""
   ]
  },
  {
   "cell_type": "code",
   "execution_count": 34,
   "id": "70b3957d",
   "metadata": {},
   "outputs": [],
   "source": [
    "# === Groq LLM call ===\n",
    "def call_groq(prompt, model=\"deepseek-r1-distill-llama-70b\"):\n",
    "    try:\n",
    "        response = client.chat.completions.create(\n",
    "            model=model,\n",
    "            messages=[\n",
    "                {\"role\": \"system\", \"content\": \"You are a legal expert on Indian Law.\"},\n",
    "                {\"role\": \"user\", \"content\": prompt}\n",
    "            ],\n",
    "            temperature=0.2,\n",
    "            max_tokens=1024\n",
    "        )\n",
    "        return response.choices[0].message.content.strip()\n",
    "    except Exception as e:\n",
    "        return f\"❌ Error: {str(e)}\""
   ]
  },
  {
   "cell_type": "code",
   "execution_count": 35,
   "id": "b5b0de5d",
   "metadata": {},
   "outputs": [],
   "source": [
    "# === Interactive CLI ===\n",
    "def main():\n",
    "    print(\"⚖️ Indian Legal Expert RAG Bot\")\n",
    "    print(\"Type your legal query or 'exit' to quit.\\n\")\n",
    "\n",
    "    while True:\n",
    "        user_query = input(\"👤 You: \").strip()\n",
    "        print(\"Your query is:\")\n",
    "        print(user_query)\n",
    "        if user_query.lower() == \"exit\":\n",
    "            print(\"👋 Exiting. Stay legally informed!\")\n",
    "            break\n",
    "\n",
    "        print(\"\\n🔎 Searching for relevant sections...\")\n",
    "        matched_sections = search_faiss(user_query)\n",
    "\n",
    "        if not matched_sections:\n",
    "            print(\"No relevant law sections found.\")\n",
    "            continue\n",
    "\n",
    "        print(\"\\n📄 Top Legal Matches:\")\n",
    "        for i, sec in enumerate(matched_sections, 1):\n",
    "            print(f\"{i}. Section {sec.get('section', 'N/A')} - {sec.get('title', '')}\")\n",
    "\n",
    "        full_prompt = build_prompt(matched_sections, user_query)\n",
    "\n",
    "        print(\"\\n🧠 Generating legal response...\\n\")\n",
    "        response = call_groq(full_prompt)\n",
    "\n",
    "        print(\"⚖️ Expert Legal Opinion:\")\n",
    "        print(response)\n",
    "        print(\"\\n\" + \"=\"*60 + \"\\n\")"
   ]
  },
  {
   "cell_type": "code",
   "execution_count": 36,
   "id": "3658dd57",
   "metadata": {},
   "outputs": [
    {
     "name": "stdout",
     "output_type": "stream",
     "text": [
      "⚖️ Indian Legal Expert RAG Bot\n",
      "Type your legal query or 'exit' to quit.\n",
      "\n",
      "Your query is:\n",
      "Can a Christian woman file for divorce on grounds of cruelty in India?\n",
      "\n",
      "🔎 Searching for relevant sections...\n",
      "\n",
      "📄 Top Legal Matches:\n",
      "1. Section 10 - Grounds for dissolution of marriage\n",
      "2. Section 2 - Extent of Act\n",
      "3. Section 498A - Husband or relative of husband of a woman subjecting her to cruelty\n",
      "4. Section 22 - Bar to decree for divorce a mensa et toro; but judicial separation obtainable by husband or wife\n",
      "5. Section 25 - Separated wife deemed spinster for purposes of contract and suing\n",
      "\n",
      "🧠 Generating legal response...\n",
      "\n",
      "⚖️ Expert Legal Opinion:\n",
      "<think>\n",
      "Okay, so I need to figure out if a Christian woman can file for divorce on the grounds of cruelty in India. Let me start by looking at the law sections provided.\n",
      "\n",
      "First, Section 10 lists the grounds for dissolution of marriage. It includes cruelty as a ground in clause (x). That means cruelty is a valid reason for divorce under this section.\n",
      "\n",
      "Next, I should check if this applies to Christian women. Section 2 says the Act extends to the whole of India, including Jammu and Kashmir, so that's not an issue. But there's another part in Section 2 that talks about the court's power to grant relief only if the petitioner or respondent is Christian. So, the woman must be Christian for this section to apply.\n",
      "\n",
      "Looking at Section 22, it mentions that judicial separation can be obtained on grounds like cruelty. This supports the idea that cruelty is a recognized ground for legal action, though it's about separation, not divorce. But since Section 10 already covers divorce, that's more relevant.\n",
      "\n",
      "Section 498A is about criminal punishment for cruelty, but the user is asking about divorce, which is a civil matter. So while it's related, it's not directly answering the question.\n",
      "\n",
      "Putting it all together, Section 10(1)(x) allows for divorce on cruelty, and as long as the woman is Christian, she can file under this section. So yes, she can file for divorce on cruelty grounds.\n",
      "</think>\n",
      "\n",
      "Yes, a Christian woman can file for divorce on the grounds of cruelty in India under Section 10(1)(x) of the Indian Divorce Act, which specifically allows for dissolution of marriage due to cruelty. This provision applies to Christian women as per Section 2 of the Act, which extends the application of the law to Christians in India. \n",
      "\n",
      "**Answer:**\n",
      "\n",
      "Yes, a Christian woman can file for divorce on the grounds of cruelty in India. Under Section 10(1)(x) of the Indian Divorce Act, cruelty is a recognized ground for dissolution of marriage. Additionally, Section 2 of the Act confirms that the provisions apply to Christians in India. Therefore, she can petition for divorce citing cruelty as the reason.\n",
      "\n",
      "============================================================\n",
      "\n",
      "Your query is:\n",
      "exit\n",
      "👋 Exiting. Stay legally informed!\n"
     ]
    }
   ],
   "source": [
    "if __name__ == \"__main__\":\n",
    "    main()\n"
   ]
  }
 ],
 "metadata": {
  "kernelspec": {
   "display_name": "Python 3 (ipykernel)",
   "language": "python",
   "name": "python3"
  },
  "language_info": {
   "codemirror_mode": {
    "name": "ipython",
    "version": 3
   },
   "file_extension": ".py",
   "mimetype": "text/x-python",
   "name": "python",
   "nbconvert_exporter": "python",
   "pygments_lexer": "ipython3",
   "version": "3.12.2"
  }
 },
 "nbformat": 4,
 "nbformat_minor": 5
}
